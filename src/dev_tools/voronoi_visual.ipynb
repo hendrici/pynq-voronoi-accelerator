{
 "cells": [
  {
   "cell_type": "code",
   "execution_count": 1,
   "id": "dc36c8b3",
   "metadata": {},
   "outputs": [],
   "source": [
    "import numpy as np\n",
    "import time\n",
    "from numba import njit, prange\n",
    "import matplotlib.pyplot as plt"
   ]
  },
  {
   "cell_type": "code",
   "execution_count": 2,
   "id": "dc2604ae",
   "metadata": {},
   "outputs": [],
   "source": [
    "@njit(parallel=True)\n",
    "def calculate_voronoi(size, seeds):\n",
    "    \"\"\"\n",
    "    Computes the Voronoi diagram for a grid of given size using the \n",
    "    parallelized features of numba.\n",
    "\n",
    "    Parameters:\n",
    "    - size: int, the width and height of the 2D area\n",
    "    - seeds: numpy array of shape (N, 2), the coordinates of seed points\n",
    "\n",
    "    Returns:\n",
    "    - area: numpy array of shape (size, size), each entry contains \n",
    "            the index of the closest seed at that point\n",
    "    \"\"\"\n",
    "    # Initialize the result area with zeros\n",
    "    area = np.zeros((size, size))\n",
    "\n",
    "    # Parallelized loop across each point in grid using prange\n",
    "    for i in prange(size):\n",
    "        for j in range(size):\n",
    "            closest_seed = -1\n",
    "            closest_distance = size * size  # Initially, set max possible distance\n",
    "\n",
    "            # Compare the current point to each seed\n",
    "            for k in range(len(seeds)):\n",
    "                point1 = np.array([float(seeds[k][0]), float(seeds[k][1])])  # Seed coordinates\n",
    "                point2 = np.array([float(i), float(j)])  # Current grid point\n",
    "                temp = point1 - point2\n",
    "                sum_sq = np.sum(np.square(temp))  # Sum of squares\n",
    "                dist = np.sqrt(sum_sq)  # Euclidean distance\n",
    "\n",
    "                # Update closest seed if current seed is closer\n",
    "                if dist < closest_distance:\n",
    "                    closest_distance = dist\n",
    "                    closest_seed = k\n",
    "\n",
    "            # Assign the index of the closest seed to the current cell\n",
    "            area[i][j] = closest_seed\n",
    "\n",
    "    return area"
   ]
  },
  {
   "cell_type": "code",
   "execution_count": 3,
   "id": "13aa60a5",
   "metadata": {},
   "outputs": [
    {
     "name": "stdout",
     "output_type": "stream",
     "text": [
      "--------------------------------------------------\n",
      "| PARALLEL PYTHON (NUMBA) VORONOI IMPLEMENTATION |\n",
      "--------------------------------------------------\n",
      "Array size: 4096\n",
      "[PY] voronoi_numba.py: 1.846 seconds\n"
     ]
    }
   ],
   "source": [
    "# Define problem size and seed values\n",
    "size = 4096\n",
    "seeds = np.array([[0, 0], [0, size - 1], [size - 1, size - 1], [size - 1, 0]])\n",
    "\n",
    "# Start Voronoi computation\n",
    "start = time.time()\n",
    "area = calculate_voronoi(size, seeds)\n",
    "end = time.time()\n",
    "elapsed = end - start\n",
    "\n",
    "# Display timing results\n",
    "print(\"--------------------------------------------------\")\n",
    "print(\"| PARALLEL PYTHON (NUMBA) VORONOI IMPLEMENTATION |\")\n",
    "print(\"--------------------------------------------------\")\n",
    "print(f\"Array size: {size}\")\n",
    "print(f\"[PY] voronoi_numba.py: {elapsed:.3f} seconds\")"
   ]
  },
  {
   "cell_type": "code",
   "execution_count": 4,
   "id": "3d956146",
   "metadata": {},
   "outputs": [
    {
     "data": {
      "image/png": "[encoded data removed]",
      "text/plain": [
       "<Figure size 640x480 with 2 Axes>"
      ]
     },
     "metadata": {},
     "output_type": "display_data"
    }
   ],
   "source": [
    "plt.imshow(area, cmap='viridis')\n",
    "plt.colorbar()\n",
    "plt.show()"
   ]
  }
 ],
 "metadata": {
  "kernelspec": {
   "display_name": "Python 3",
   "language": "python",
   "name": "python3"
  },
  "language_info": {
   "codemirror_mode": {
    "name": "ipython",
    "version": 3
   },
   "file_extension": ".py",
   "mimetype": "text/x-python",
   "name": "python",
   "nbconvert_exporter": "python",
   "pygments_lexer": "ipython3",
   "version": "3.12.3"
  }
 },
 "nbformat": 4,
 "nbformat_minor": 5
}
