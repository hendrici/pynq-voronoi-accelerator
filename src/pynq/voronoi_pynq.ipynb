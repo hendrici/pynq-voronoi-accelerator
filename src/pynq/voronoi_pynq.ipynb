{
 "cells": [
  {
   "cell_type": "markdown",
   "id": "af629fba",
   "metadata": {},
   "source": [
    "# voronoi_pynq.ipynb\n",
    "\n",
    "Author: Isaiah Hendrick\n",
    "\n",
    "Project: Master's Project - PYNQ Voronoi Acceleration\n",
    "\n",
    "Organization: Grand Valley State University\n",
    "\n",
    "Description: This notebook demonstrates the hardware-accelerated computation of the Voronoi algorithm using a custom Vitis HLS IP overlay on the PYNQ-Z1 FPGA board. This code can only be run when interfaced with the PYNQ-Z1 board (accessed through web server), and must have appropriate \".bit\" and \".hwh\" files in same folder\n"
   ]
  },
  {
   "cell_type": "markdown",
   "id": "10d8838d",
   "metadata": {},
   "source": [
    "### Import libraries"
   ]
  },
  {
   "cell_type": "code",
   "execution_count": null,
   "id": "96dd64f7",
   "metadata": {},
   "outputs": [],
   "source": [
    "from pynq import Overlay, allocate\n",
    "import numpy as np\n",
    "import matplotlib.pyplot as plt\n",
    "import time"
   ]
  },
  {
   "cell_type": "markdown",
   "id": "d92b99a2",
   "metadata": {},
   "source": [
    "### Create the overlay and extract the IP"
   ]
  },
  {
   "cell_type": "code",
   "execution_count": null,
   "id": "f8fb3125",
   "metadata": {},
   "outputs": [],
   "source": [
    "ol = Overlay(\"voronoi.bit\")\n",
    "ip = ol.calculate_voronoi_0"
   ]
  },
  {
   "cell_type": "markdown",
   "id": "bedc92c5",
   "metadata": {},
   "source": [
    "### Allocate and write parameters to memory on PYNQ-Z1"
   ]
  },
  {
   "cell_type": "code",
   "execution_count": null,
   "id": "87eeb9ec",
   "metadata": {},
   "outputs": [],
   "source": [
    "# Problem size\n",
    "size = 4096\n",
    "\n",
    "# Allocate space for result matrix\n",
    "area_buf = allocate(shape=(size, size), dtype=np.float32)\n",
    "area_buf.flush()\n",
    "\n",
    "# Write values directly to physical memory of fpga\n",
    "ip.write(0x10, size)\n",
    "ip.write(0x18, area_buf.physical_address & 0xFFFFFFFF)\n",
    "ip.write(0x1c, (area_buf.physical_address >> 32) & 0xFFFFFFFF)"
   ]
  },
  {
   "cell_type": "markdown",
   "id": "62459836",
   "metadata": {},
   "source": [
    "### Call function on PYNQ-Z1"
   ]
  },
  {
   "cell_type": "code",
   "execution_count": null,
   "id": "03be9443",
   "metadata": {},
   "outputs": [],
   "source": [
    "# Record start time\n",
    "start = time.time()\n",
    "\n",
    "# Write to memory to start function call\n",
    "ip.write(0x00, 0x01)\n",
    "# Wait until function finishes\n",
    "while (ip.read(0x00) & 0x2) == 0:\n",
    "    pass\n",
    "area_buf.invalidate()\n",
    "\n",
    "# Record end time\n",
    "end = time.time()\n",
    "\n",
    "# Display timing results\n",
    "elapsed = (end - start)\n",
    "print(\"-------------------------------\")\n",
    "print(\"| PYNQ VORONOI IMPLEMENTATION |\")\n",
    "print(\"-------------------------------\")\n",
    "print(f\"Array size: {size}\\nTime taken: {elapsed} s\")"
   ]
  },
  {
   "cell_type": "markdown",
   "id": "da74e196",
   "metadata": {},
   "source": [
    "### Verify results using matplotlib"
   ]
  },
  {
   "cell_type": "code",
   "execution_count": null,
   "id": "36128fc0",
   "metadata": {},
   "outputs": [],
   "source": [
    "plt.imshow(area_buf, cmap='viridis')\n",
    "plt.colorbar()\n",
    "plt.show()"
   ]
  },
  {
   "cell_type": "markdown",
   "id": "16b2c5d5",
   "metadata": {},
   "source": [
    "### Free allocated memory"
   ]
  },
  {
   "cell_type": "code",
   "execution_count": null,
   "id": "e3754850",
   "metadata": {},
   "outputs": [],
   "source": [
    "area_buf.freebuffer()"
   ]
  },
  {
   "cell_type": "markdown",
   "id": "6dbad7d8",
   "metadata": {},
   "source": [
    "## Run C implementations for comparison"
   ]
  },
  {
   "cell_type": "code",
   "execution_count": null,
   "id": "5619a5e5",
   "metadata": {},
   "outputs": [],
   "source": [
    "!gcc voronoi_seq_c.c -o voronoi_seq_c -O3 -lm\n",
    "!./voronoi_seq_c"
   ]
  },
  {
   "cell_type": "code",
   "execution_count": null,
   "id": "bb2b5453",
   "metadata": {},
   "outputs": [],
   "source": [
    "!gcc voronoi_omp.c -o voronoi_omp -fopenmp -O3 -lm\n",
    "!OMP_NUM_THREADS=2 ./voronoi_omp"
   ]
  }
 ],
 "metadata": {
  "language_info": {
   "name": "python"
  }
 },
 "nbformat": 4,
 "nbformat_minor": 5
}
